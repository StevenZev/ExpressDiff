{
 "cells": [
  {
   "cell_type": "code",
   "execution_count": 1,
   "id": "e4e50444-5ce2-4f79-b466-a16a4bf40222",
   "metadata": {
    "tags": []
   },
   "outputs": [],
   "source": [
    "from IPython.display import IFrame\n",
    "import pandas as pd"
   ]
  },
  {
   "cell_type": "code",
   "execution_count": null,
   "id": "fb69bad6-3202-472a-a19b-4e598d789d52",
   "metadata": {
    "tags": []
   },
   "outputs": [],
   "source": [
    "trimpath = \"/apps/software/standard/core/trimmomatic/0.39\""
   ]
  },
  {
   "cell_type": "markdown",
   "id": "02502d2e-ace4-4480-bf78-130bbbd1c763",
   "metadata": {},
   "source": [
    "### Run initial QC to determine adapters:"
   ]
  },
  {
   "cell_type": "code",
   "execution_count": 17,
   "id": "d32aa8a8-d4cf-45fe-9e90-022205d9d687",
   "metadata": {},
   "outputs": [
    {
     "name": "stdout",
     "output_type": "stream",
     "text": [
      "Submitted batch job 3651259\n"
     ]
    }
   ],
   "source": [
    "!sbatch qc_raw.slurm"
   ]
  },
  {
   "cell_type": "code",
   "execution_count": 18,
   "id": "8a80c70f-5d34-4daa-b48c-e2bdd06eae1c",
   "metadata": {
    "tags": []
   },
   "outputs": [
    {
     "data": {
      "text/html": [
       "\n",
       "        <iframe\n",
       "            width=\"100%\"\n",
       "            height=\"600\"\n",
       "            src=\"raw_multiqc_out/multiqc_report.html\"\n",
       "            frameborder=\"0\"\n",
       "            allowfullscreen\n",
       "            \n",
       "        ></iframe>\n",
       "        "
      ],
      "text/plain": [
       "<IPython.lib.display.IFrame at 0x7f3efc3febd0>"
      ]
     },
     "execution_count": 18,
     "metadata": {},
     "output_type": "execute_result"
    }
   ],
   "source": [
    "IFrame(\"raw_multiqc_out/multiqc_report.html\", width='100%', height=600)"
   ]
  },
  {
   "cell_type": "markdown",
   "id": "c9ee9ab0-dd11-4909-9f04-0dacf0f711ef",
   "metadata": {},
   "source": [
    "### Select and trim adapters (if necessary):"
   ]
  },
  {
   "cell_type": "code",
   "execution_count": 15,
   "id": "e93300f6-596e-40bb-a51b-bf2d66e76aa8",
   "metadata": {},
   "outputs": [],
   "source": [
    "adapter = \"test\""
   ]
  },
  {
   "cell_type": "code",
   "execution_count": 16,
   "id": "6825aeda-0b5b-4ef5-9611-add238982c13",
   "metadata": {
    "tags": []
   },
   "outputs": [
    {
     "name": "stdout",
     "output_type": "stream",
     "text": [
      "Submitted batch job 3651252\n"
     ]
    }
   ],
   "source": [
    "!sbatch trimAdapters4.slurm {adapter}"
   ]
  },
  {
   "cell_type": "code",
   "execution_count": null,
   "id": "b72cae77-8a27-4d54-9439-a0f680db7576",
   "metadata": {},
   "outputs": [],
   "source": [
    "!sbatch qc_trimmed.slurm"
   ]
  },
  {
   "cell_type": "code",
   "execution_count": null,
   "id": "e5ea5e2b-226d-4d87-9125-73ab90e44e30",
   "metadata": {},
   "outputs": [],
   "source": [
    "IFrame(\"raw_multiqc_out/multiqc_report.html\", width='100%', height=600)"
   ]
  },
  {
   "cell_type": "markdown",
   "id": "f0171883-9348-42e7-844b-e6d23dc3d3ee",
   "metadata": {},
   "source": [
    "### If trimming not neccesary:"
   ]
  },
  {
   "cell_type": "code",
   "execution_count": 19,
   "id": "20bb06f8-26cf-4aea-b1eb-adb31833a513",
   "metadata": {
    "tags": []
   },
   "outputs": [],
   "source": [
    "!mkdir trimmed_reads"
   ]
  },
  {
   "cell_type": "markdown",
   "id": "39fcc74c-68a9-4e62-994c-3a94b61cdddf",
   "metadata": {
    "tags": []
   },
   "source": [
    "!cp raw_reads/* trimmed_reads/"
   ]
  },
  {
   "cell_type": "code",
   "execution_count": 21,
   "id": "6c025c47-bb80-4fde-baab-ecc43cf4ccb5",
   "metadata": {},
   "outputs": [
    {
     "name": "stdout",
     "output_type": "stream",
     "text": [
      "Submitted batch job 3651262\n"
     ]
    }
   ],
   "source": [
    "!sbatch qc_trimmed.slurm -skip"
   ]
  },
  {
   "cell_type": "code",
   "execution_count": 22,
   "id": "4f008295-fe81-4526-bdb2-40f5c529a633",
   "metadata": {},
   "outputs": [
    {
     "data": {
      "text/html": [
       "\n",
       "        <iframe\n",
       "            width=\"100%\"\n",
       "            height=\"600\"\n",
       "            src=\"raw_multiqc_out/multiqc_report.html\"\n",
       "            frameborder=\"0\"\n",
       "            allowfullscreen\n",
       "            \n",
       "        ></iframe>\n",
       "        "
      ],
      "text/plain": [
       "<IPython.lib.display.IFrame at 0x7f3efc4180d0>"
      ]
     },
     "execution_count": 22,
     "metadata": {},
     "output_type": "execute_result"
    }
   ],
   "source": [
    "IFrame(\"raw_multiqc_out/multiqc_report.html\", width='100%', height=600)"
   ]
  },
  {
   "cell_type": "markdown",
   "id": "fdc07549-bc9d-4cd8-af3e-dd433fb212df",
   "metadata": {},
   "source": [
    "### Upload Reference Genome (in mapping_in/ .gtf and .fa) and run STAR:"
   ]
  },
  {
   "cell_type": "code",
   "execution_count": null,
   "id": "7e533b66-af0e-4cad-bb77-12470380c9fa",
   "metadata": {},
   "outputs": [],
   "source": [
    "!sbatch SLURM.slurm"
   ]
  },
  {
   "cell_type": "markdown",
   "id": "727fa52b-c611-4bf2-886b-8cdf1585dfb2",
   "metadata": {},
   "source": [
    "### Feature Counts!!"
   ]
  },
  {
   "cell_type": "code",
   "execution_count": null,
   "id": "f416451e-5545-48cf-a172-ba07ff3543c3",
   "metadata": {},
   "outputs": [],
   "source": [
    "!sbatch featureCounts.slurm"
   ]
  },
  {
   "cell_type": "markdown",
   "id": "3adeef61-dfd3-4cf9-afab-fa66f2251e80",
   "metadata": {},
   "source": [
    "### Convert featureCounts output to DF"
   ]
  },
  {
   "cell_type": "code",
   "execution_count": 4,
   "id": "67e622e5-0b37-4fb0-ad42-8d7dec5d32ab",
   "metadata": {
    "tags": []
   },
   "outputs": [
    {
     "name": "stdout",
     "output_type": "stream",
     "text": [
      "Cleaned count matrix saved as 'deseq_counts_matrix.csv'\n"
     ]
    }
   ],
   "source": [
    "# Load the raw counts.txt file from featureCounts\n",
    "raw_counts = pd.read_csv(\"featureCounts_out/counts.txt\", sep='\\t', comment='#')\n",
    "\n",
    "# Drop non-count columns (feature metadata)\n",
    "count_data = raw_counts.drop(columns=[\"Chr\", \"Start\", \"End\", \"Strand\", \"Length\"])\n",
    "\n",
    "# Set gene IDs as the index\n",
    "count_data = count_data.set_index(\"Geneid\")\n",
    "\n",
    "# Save cleaned counts to CSV\n",
    "!mkdir counts_matrix\n",
    "count_data.to_csv(\"counts_matrix/deseq_counts_matrix.csv\")\n",
    "\n",
    "print(\"Cleaned count matrix saved as 'deseq_counts_matrix.csv'\")\n"
   ]
  },
  {
   "cell_type": "code",
   "execution_count": 3,
   "id": "c7d5bb22-1f2b-4f17-8ed7-c702c8201bf1",
   "metadata": {
    "tags": []
   },
   "outputs": [
    {
     "data": {
      "text/html": [
       "<div>\n",
       "<style scoped>\n",
       "    .dataframe tbody tr th:only-of-type {\n",
       "        vertical-align: middle;\n",
       "    }\n",
       "\n",
       "    .dataframe tbody tr th {\n",
       "        vertical-align: top;\n",
       "    }\n",
       "\n",
       "    .dataframe thead th {\n",
       "        text-align: right;\n",
       "    }\n",
       "</style>\n",
       "<table border=\"1\" class=\"dataframe\">\n",
       "  <thead>\n",
       "    <tr style=\"text-align: right;\">\n",
       "      <th></th>\n",
       "      <th>STAR_out/DRR336815_Aligned.sortedByCoord.out.bam</th>\n",
       "    </tr>\n",
       "    <tr>\n",
       "      <th>Geneid</th>\n",
       "      <th></th>\n",
       "    </tr>\n",
       "  </thead>\n",
       "  <tbody>\n",
       "    <tr>\n",
       "      <th>ENSMUSG00000102693.2</th>\n",
       "      <td>0</td>\n",
       "    </tr>\n",
       "    <tr>\n",
       "      <th>ENSMUSG00000064842.3</th>\n",
       "      <td>0</td>\n",
       "    </tr>\n",
       "    <tr>\n",
       "      <th>ENSMUSG00000051951.6</th>\n",
       "      <td>12</td>\n",
       "    </tr>\n",
       "    <tr>\n",
       "      <th>ENSMUSG00000102851.2</th>\n",
       "      <td>0</td>\n",
       "    </tr>\n",
       "    <tr>\n",
       "      <th>ENSMUSG00000103377.2</th>\n",
       "      <td>0</td>\n",
       "    </tr>\n",
       "    <tr>\n",
       "      <th>...</th>\n",
       "      <td>...</td>\n",
       "    </tr>\n",
       "    <tr>\n",
       "      <th>ENSMUSG00000064368.1</th>\n",
       "      <td>872</td>\n",
       "    </tr>\n",
       "    <tr>\n",
       "      <th>ENSMUSG00000064369.1</th>\n",
       "      <td>4</td>\n",
       "    </tr>\n",
       "    <tr>\n",
       "      <th>ENSMUSG00000064370.1</th>\n",
       "      <td>195282</td>\n",
       "    </tr>\n",
       "    <tr>\n",
       "      <th>ENSMUSG00000064371.1</th>\n",
       "      <td>7</td>\n",
       "    </tr>\n",
       "    <tr>\n",
       "      <th>ENSMUSG00000064372.1</th>\n",
       "      <td>29</td>\n",
       "    </tr>\n",
       "  </tbody>\n",
       "</table>\n",
       "<p>56953 rows × 1 columns</p>\n",
       "</div>"
      ],
      "text/plain": [
       "                      STAR_out/DRR336815_Aligned.sortedByCoord.out.bam\n",
       "Geneid                                                                \n",
       "ENSMUSG00000102693.2                                                 0\n",
       "ENSMUSG00000064842.3                                                 0\n",
       "ENSMUSG00000051951.6                                                12\n",
       "ENSMUSG00000102851.2                                                 0\n",
       "ENSMUSG00000103377.2                                                 0\n",
       "...                                                                ...\n",
       "ENSMUSG00000064368.1                                               872\n",
       "ENSMUSG00000064369.1                                                 4\n",
       "ENSMUSG00000064370.1                                            195282\n",
       "ENSMUSG00000064371.1                                                 7\n",
       "ENSMUSG00000064372.1                                                29\n",
       "\n",
       "[56953 rows x 1 columns]"
      ]
     },
     "execution_count": 3,
     "metadata": {},
     "output_type": "execute_result"
    }
   ],
   "source": [
    "count_data"
   ]
  },
  {
   "cell_type": "code",
   "execution_count": null,
   "id": "5771eda4-f5d2-40e0-a9a4-5291baca4e1a",
   "metadata": {},
   "outputs": [],
   "source": []
  }
 ],
 "metadata": {
  "kernelspec": {
   "display_name": "Python 3 (ipykernel)",
   "language": "python",
   "name": "python3"
  },
  "language_info": {
   "codemirror_mode": {
    "name": "ipython",
    "version": 3
   },
   "file_extension": ".py",
   "mimetype": "text/x-python",
   "name": "python",
   "nbconvert_exporter": "python",
   "pygments_lexer": "ipython3",
   "version": "3.11.4"
  }
 },
 "nbformat": 4,
 "nbformat_minor": 5
}
