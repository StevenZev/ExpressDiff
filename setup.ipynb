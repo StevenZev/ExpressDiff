{
 "cells": [
  {
   "cell_type": "markdown",
   "id": "28ba9ac7",
   "metadata": {},
   "source": [
    "## 🔧 Setup environment"
   ]
  },
  {
   "cell_type": "code",
   "execution_count": 1,
   "id": "e3d4090f-e2cc-4c42-8cff-b4fa5b59fe45",
   "metadata": {
    "tags": []
   },
   "outputs": [],
   "source": [
    "import subprocess"
   ]
  },
  {
   "cell_type": "code",
   "execution_count": 2,
   "id": "3f4fe91d",
   "metadata": {
    "tags": []
   },
   "outputs": [],
   "source": [
    "cmd = \"\"\"\n",
    "python -m venv venv\n",
    "source venv/bin/activate\n",
    "pip install streamlit\n",
    "pip install pydeseq2\n",
    "deactivate\n",
    "\"\"\""
   ]
  },
  {
   "cell_type": "code",
   "execution_count": 3,
   "id": "6c68ec35",
   "metadata": {
    "tags": []
   },
   "outputs": [
    {
     "name": "stdout",
     "output_type": "stream",
     "text": [
      "Requirement already satisfied: streamlit in ./venv/lib/python3.11/site-packages (1.45.1)\n",
      "Requirement already satisfied: altair<6,>=4.0 in ./venv/lib/python3.11/site-packages (from streamlit) (5.5.0)\n",
      "Requirement already satisfied: blinker<2,>=1.5.0 in ./venv/lib/python3.11/site-packages (from streamlit) (1.9.0)\n",
      "Requirement already satisfied: cachetools<6,>=4.0 in ./venv/lib/python3.11/site-packages (from streamlit) (5.5.2)\n",
      "Requirement already satisfied: click<9,>=7.0 in ./venv/lib/python3.11/site-packages (from streamlit) (8.2.1)\n",
      "Requirement already satisfied: numpy<3,>=1.23 in ./venv/lib/python3.11/site-packages (from streamlit) (2.3.0)\n",
      "Requirement already satisfied: packaging<25,>=20 in ./venv/lib/python3.11/site-packages (from streamlit) (24.2)\n",
      "Requirement already satisfied: pandas<3,>=1.4.0 in ./venv/lib/python3.11/site-packages (from streamlit) (2.3.0)\n",
      "Requirement already satisfied: pillow<12,>=7.1.0 in ./venv/lib/python3.11/site-packages (from streamlit) (11.2.1)\n",
      "Requirement already satisfied: protobuf<7,>=3.20 in ./venv/lib/python3.11/site-packages (from streamlit) (6.31.1)\n",
      "Requirement already satisfied: pyarrow>=7.0 in ./venv/lib/python3.11/site-packages (from streamlit) (20.0.0)\n",
      "Requirement already satisfied: requests<3,>=2.27 in ./venv/lib/python3.11/site-packages (from streamlit) (2.32.4)\n",
      "Requirement already satisfied: tenacity<10,>=8.1.0 in ./venv/lib/python3.11/site-packages (from streamlit) (9.1.2)\n",
      "Requirement already satisfied: toml<2,>=0.10.1 in ./venv/lib/python3.11/site-packages (from streamlit) (0.10.2)\n",
      "Requirement already satisfied: typing-extensions<5,>=4.4.0 in ./venv/lib/python3.11/site-packages (from streamlit) (4.14.0)\n",
      "Requirement already satisfied: watchdog<7,>=2.1.5 in ./venv/lib/python3.11/site-packages (from streamlit) (6.0.0)\n",
      "Requirement already satisfied: gitpython!=3.1.19,<4,>=3.0.7 in ./venv/lib/python3.11/site-packages (from streamlit) (3.1.44)\n",
      "Requirement already satisfied: pydeck<1,>=0.8.0b4 in ./venv/lib/python3.11/site-packages (from streamlit) (0.9.1)\n",
      "Requirement already satisfied: tornado<7,>=6.0.3 in ./venv/lib/python3.11/site-packages (from streamlit) (6.5.1)\n",
      "Requirement already satisfied: jinja2 in ./venv/lib/python3.11/site-packages (from altair<6,>=4.0->streamlit) (3.1.6)\n",
      "Requirement already satisfied: jsonschema>=3.0 in ./venv/lib/python3.11/site-packages (from altair<6,>=4.0->streamlit) (4.24.0)\n",
      "Requirement already satisfied: narwhals>=1.14.2 in ./venv/lib/python3.11/site-packages (from altair<6,>=4.0->streamlit) (1.42.0)\n",
      "Requirement already satisfied: gitdb<5,>=4.0.1 in ./venv/lib/python3.11/site-packages (from gitpython!=3.1.19,<4,>=3.0.7->streamlit) (4.0.12)\n",
      "Requirement already satisfied: python-dateutil>=2.8.2 in ./venv/lib/python3.11/site-packages (from pandas<3,>=1.4.0->streamlit) (2.9.0.post0)\n",
      "Requirement already satisfied: pytz>=2020.1 in ./venv/lib/python3.11/site-packages (from pandas<3,>=1.4.0->streamlit) (2025.2)\n",
      "Requirement already satisfied: tzdata>=2022.7 in ./venv/lib/python3.11/site-packages (from pandas<3,>=1.4.0->streamlit) (2025.2)\n",
      "Requirement already satisfied: charset_normalizer<4,>=2 in ./venv/lib/python3.11/site-packages (from requests<3,>=2.27->streamlit) (3.4.2)\n",
      "Requirement already satisfied: idna<4,>=2.5 in ./venv/lib/python3.11/site-packages (from requests<3,>=2.27->streamlit) (3.10)\n",
      "Requirement already satisfied: urllib3<3,>=1.21.1 in ./venv/lib/python3.11/site-packages (from requests<3,>=2.27->streamlit) (2.4.0)\n",
      "Requirement already satisfied: certifi>=2017.4.17 in ./venv/lib/python3.11/site-packages (from requests<3,>=2.27->streamlit) (2025.4.26)\n",
      "Requirement already satisfied: smmap<6,>=3.0.1 in ./venv/lib/python3.11/site-packages (from gitdb<5,>=4.0.1->gitpython!=3.1.19,<4,>=3.0.7->streamlit) (5.0.2)\n",
      "Requirement already satisfied: MarkupSafe>=2.0 in ./venv/lib/python3.11/site-packages (from jinja2->altair<6,>=4.0->streamlit) (3.0.2)\n",
      "Requirement already satisfied: attrs>=22.2.0 in ./venv/lib/python3.11/site-packages (from jsonschema>=3.0->altair<6,>=4.0->streamlit) (25.3.0)\n",
      "Requirement already satisfied: jsonschema-specifications>=2023.03.6 in ./venv/lib/python3.11/site-packages (from jsonschema>=3.0->altair<6,>=4.0->streamlit) (2025.4.1)\n",
      "Requirement already satisfied: referencing>=0.28.4 in ./venv/lib/python3.11/site-packages (from jsonschema>=3.0->altair<6,>=4.0->streamlit) (0.36.2)\n",
      "Requirement already satisfied: rpds-py>=0.7.1 in ./venv/lib/python3.11/site-packages (from jsonschema>=3.0->altair<6,>=4.0->streamlit) (0.25.1)\n",
      "Requirement already satisfied: six>=1.5 in ./venv/lib/python3.11/site-packages (from python-dateutil>=2.8.2->pandas<3,>=1.4.0->streamlit) (1.17.0)\n",
      "Requirement already satisfied: pydeseq2 in ./venv/lib/python3.11/site-packages (0.5.1)\n",
      "Requirement already satisfied: anndata>=0.8.0 in ./venv/lib/python3.11/site-packages (from pydeseq2) (0.11.4)\n",
      "Requirement already satisfied: formulaic>=1.0.2 in ./venv/lib/python3.11/site-packages (from pydeseq2) (1.1.1)\n",
      "Requirement already satisfied: numpy>=1.23.0 in ./venv/lib/python3.11/site-packages (from pydeseq2) (2.3.0)\n",
      "Requirement already satisfied: pandas>=1.4.0 in ./venv/lib/python3.11/site-packages (from pydeseq2) (2.3.0)\n",
      "Requirement already satisfied: scikit-learn>=1.1.0 in ./venv/lib/python3.11/site-packages (from pydeseq2) (1.7.0)\n",
      "Requirement already satisfied: scipy>=1.11.0 in ./venv/lib/python3.11/site-packages (from pydeseq2) (1.15.3)\n",
      "Requirement already satisfied: formulaic-contrasts>=0.2.0 in ./venv/lib/python3.11/site-packages (from pydeseq2) (1.0.0)\n",
      "Requirement already satisfied: matplotlib>=3.6.2 in ./venv/lib/python3.11/site-packages (from pydeseq2) (3.10.3)\n",
      "Requirement already satisfied: array-api-compat!=1.5,>1.4 in ./venv/lib/python3.11/site-packages (from anndata>=0.8.0->pydeseq2) (1.12.0)\n",
      "Requirement already satisfied: h5py>=3.7 in ./venv/lib/python3.11/site-packages (from anndata>=0.8.0->pydeseq2) (3.14.0)\n",
      "Requirement already satisfied: natsort in ./venv/lib/python3.11/site-packages (from anndata>=0.8.0->pydeseq2) (8.4.0)\n",
      "Requirement already satisfied: packaging>=24.2 in ./venv/lib/python3.11/site-packages (from anndata>=0.8.0->pydeseq2) (24.2)\n",
      "Requirement already satisfied: interface-meta>=1.2.0 in ./venv/lib/python3.11/site-packages (from formulaic>=1.0.2->pydeseq2) (1.3.0)\n",
      "Requirement already satisfied: typing-extensions>=4.2.0 in ./venv/lib/python3.11/site-packages (from formulaic>=1.0.2->pydeseq2) (4.14.0)\n",
      "Requirement already satisfied: wrapt>=1.0 in ./venv/lib/python3.11/site-packages (from formulaic>=1.0.2->pydeseq2) (1.17.2)\n",
      "Requirement already satisfied: session-info in ./venv/lib/python3.11/site-packages (from formulaic-contrasts>=0.2.0->pydeseq2) (1.0.1)\n",
      "Requirement already satisfied: contourpy>=1.0.1 in ./venv/lib/python3.11/site-packages (from matplotlib>=3.6.2->pydeseq2) (1.3.2)\n",
      "Requirement already satisfied: cycler>=0.10 in ./venv/lib/python3.11/site-packages (from matplotlib>=3.6.2->pydeseq2) (0.12.1)\n",
      "Requirement already satisfied: fonttools>=4.22.0 in ./venv/lib/python3.11/site-packages (from matplotlib>=3.6.2->pydeseq2) (4.58.2)\n",
      "Requirement already satisfied: kiwisolver>=1.3.1 in ./venv/lib/python3.11/site-packages (from matplotlib>=3.6.2->pydeseq2) (1.4.8)\n",
      "Requirement already satisfied: pillow>=8 in ./venv/lib/python3.11/site-packages (from matplotlib>=3.6.2->pydeseq2) (11.2.1)\n",
      "Requirement already satisfied: pyparsing>=2.3.1 in ./venv/lib/python3.11/site-packages (from matplotlib>=3.6.2->pydeseq2) (3.2.3)\n",
      "Requirement already satisfied: python-dateutil>=2.7 in ./venv/lib/python3.11/site-packages (from matplotlib>=3.6.2->pydeseq2) (2.9.0.post0)\n",
      "Requirement already satisfied: pytz>=2020.1 in ./venv/lib/python3.11/site-packages (from pandas>=1.4.0->pydeseq2) (2025.2)\n",
      "Requirement already satisfied: tzdata>=2022.7 in ./venv/lib/python3.11/site-packages (from pandas>=1.4.0->pydeseq2) (2025.2)\n",
      "Requirement already satisfied: joblib>=1.2.0 in ./venv/lib/python3.11/site-packages (from scikit-learn>=1.1.0->pydeseq2) (1.5.1)\n",
      "Requirement already satisfied: threadpoolctl>=3.1.0 in ./venv/lib/python3.11/site-packages (from scikit-learn>=1.1.0->pydeseq2) (3.6.0)\n",
      "Requirement already satisfied: six>=1.5 in ./venv/lib/python3.11/site-packages (from python-dateutil>=2.7->matplotlib>=3.6.2->pydeseq2) (1.17.0)\n",
      "Requirement already satisfied: stdlib_list in ./venv/lib/python3.11/site-packages (from session-info->formulaic-contrasts>=0.2.0->pydeseq2) (0.11.1)\n"
     ]
    },
    {
     "data": {
      "text/plain": [
       "CompletedProcess(args='\\npython -m venv venv\\nsource venv/bin/activate\\npip install streamlit\\npip install pydeseq2\\ndeactivate\\n', returncode=0)"
      ]
     },
     "execution_count": 3,
     "metadata": {},
     "output_type": "execute_result"
    }
   ],
   "source": [
    "subprocess.run(cmd, shell=True, executable=\"/bin/bash\")"
   ]
  },
  {
   "cell_type": "markdown",
   "id": "12fc8815",
   "metadata": {
    "tags": []
   },
   "source": [
    "## 🏃 Run ExpressDiff"
   ]
  },
  {
   "cell_type": "code",
   "execution_count": 6,
   "id": "bdeac42b-b168-4307-8c80-e5272825160e",
   "metadata": {},
   "outputs": [],
   "source": [
    "cmd = \"\"\"\n",
    "source venv/bin/activate\n",
    "python -m streamlit run expressdiff.py --server.maxUploadSize 1000000\n",
    "\"\"\""
   ]
  },
  {
   "cell_type": "code",
   "execution_count": null,
   "id": "cc18502d-00e6-43af-ad2e-6cff5c52021c",
   "metadata": {
    "scrolled": true,
    "tags": []
   },
   "outputs": [
    {
     "name": "stdout",
     "output_type": "stream",
     "text": [
      "\n",
      "Collecting usage statistics. To deactivate, set browser.gatherUsageStats to false.\n",
      "\n",
      "\n",
      "  You can now view your Streamlit app in your browser.\n",
      "\n",
      "  Local URL: http://localhost:8501\n",
      "  Network URL: http://10.250.132.25:8501\n",
      "  External URL: http://128.143.245.250:8501\n",
      "\n"
     ]
    }
   ],
   "source": [
    "subprocess.run(cmd, shell=True, executable=\"/bin/bash\")"
   ]
  },
  {
   "cell_type": "markdown",
   "id": "5fc91876-5faf-4c32-b3eb-6c4840d57e0f",
   "metadata": {},
   "source": [
    "### ⬆️ Copy and paste the Network URL (second link) into the FastX Desktop FireFox Browser!!! "
   ]
  },
  {
   "cell_type": "code",
   "execution_count": null,
   "id": "40b28ddd-f433-4bab-b637-c211da6402d9",
   "metadata": {},
   "outputs": [],
   "source": []
  }
 ],
 "metadata": {
  "kernelspec": {
   "display_name": "Python 3 (ipykernel)",
   "language": "python",
   "name": "python3"
  },
  "language_info": {
   "codemirror_mode": {
    "name": "ipython",
    "version": 3
   },
   "file_extension": ".py",
   "mimetype": "text/x-python",
   "name": "python",
   "nbconvert_exporter": "python",
   "pygments_lexer": "ipython3",
   "version": "3.11.6"
  }
 },
 "nbformat": 4,
 "nbformat_minor": 5
}
