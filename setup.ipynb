{
 "cells": [
  {
   "cell_type": "markdown",
   "id": "28ba9ac7",
   "metadata": {},
   "source": [
    "Setup environment"
   ]
  },
  {
   "cell_type": "code",
   "execution_count": null,
   "id": "3f4fe91d",
   "metadata": {
    "vscode": {
     "languageId": "plaintext"
    }
   },
   "outputs": [],
   "source": [
    "!python -m venv venv\n",
    "!source venv/bin/activate\n",
    "!pip install streamlit\n",
    "!pip install pydeseq2\n"
   ]
  },
  {
   "cell_type": "markdown",
   "id": "12fc8815",
   "metadata": {},
   "source": [
    "Run ExpressDiff"
   ]
  },
  {
   "cell_type": "code",
   "execution_count": null,
   "id": "6c68ec35",
   "metadata": {
    "vscode": {
     "languageId": "plaintext"
    }
   },
   "outputs": [],
   "source": [
    "!python -m streamlit run expressdiff.py --server.MaxUploadSize 1000000"
   ]
  }
 ],
 "metadata": {
  "language_info": {
   "name": "python"
  }
 },
 "nbformat": 4,
 "nbformat_minor": 5
}
