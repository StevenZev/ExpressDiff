{
 "cells": [
  {
   "cell_type": "code",
   "execution_count": 16,
   "id": "e4e50444-5ce2-4f79-b466-a16a4bf40222",
   "metadata": {
    "tags": []
   },
   "outputs": [],
   "source": [
    "from IPython.display import IFrame\n",
    "\n"
   ]
  },
  {
   "cell_type": "code",
   "execution_count": null,
   "id": "fb69bad6-3202-472a-a19b-4e598d789d52",
   "metadata": {
    "tags": []
   },
   "outputs": [],
   "source": [
    "trimpath = \"/apps/software/standard/core/trimmomatic/0.39\""
   ]
  },
  {
   "cell_type": "markdown",
   "id": "02502d2e-ace4-4480-bf78-130bbbd1c763",
   "metadata": {},
   "source": [
    "### Run initial QC to determine adapters:"
   ]
  },
  {
   "cell_type": "code",
   "execution_count": null,
   "id": "d32aa8a8-d4cf-45fe-9e90-022205d9d687",
   "metadata": {},
   "outputs": [],
   "source": [
    "!sbatch qc_raw.slurm"
   ]
  },
  {
   "cell_type": "code",
   "execution_count": 17,
   "id": "8a80c70f-5d34-4daa-b48c-e2bdd06eae1c",
   "metadata": {
    "tags": []
   },
   "outputs": [
    {
     "data": {
      "text/html": [
       "\n",
       "        <iframe\n",
       "            width=\"100%\"\n",
       "            height=\"600\"\n",
       "            src=\"raw_multiqc_out/multiqc_report.html\"\n",
       "            frameborder=\"0\"\n",
       "            allowfullscreen\n",
       "            \n",
       "        ></iframe>\n",
       "        "
      ],
      "text/plain": [
       "<IPython.lib.display.IFrame at 0x7f5f5ad5e190>"
      ]
     },
     "execution_count": 17,
     "metadata": {},
     "output_type": "execute_result"
    }
   ],
   "source": [
    "IFrame(\"raw_multiqc_out/multiqc_report.html\", width='100%', height=600)"
   ]
  },
  {
   "cell_type": "markdown",
   "id": "c9ee9ab0-dd11-4909-9f04-0dacf0f711ef",
   "metadata": {},
   "source": [
    "### Select and trim adapters:"
   ]
  },
  {
   "cell_type": "code",
   "execution_count": null,
   "id": "e93300f6-596e-40bb-a51b-bf2d66e76aa8",
   "metadata": {},
   "outputs": [],
   "source": [
    "adapter = \"NexteraPE-PE\""
   ]
  },
  {
   "cell_type": "code",
   "execution_count": 11,
   "id": "6825aeda-0b5b-4ef5-9611-add238982c13",
   "metadata": {
    "tags": []
   },
   "outputs": [
    {
     "name": "stdout",
     "output_type": "stream",
     "text": [
      "Submitted batch job 3650414\n"
     ]
    }
   ],
   "source": [
    "!sbatch trimAdapters4.slurm {adapter}"
   ]
  },
  {
   "cell_type": "code",
   "execution_count": 28,
   "id": "6c025c47-bb80-4fde-baab-ecc43cf4ccb5",
   "metadata": {},
   "outputs": [
    {
     "name": "stdout",
     "output_type": "stream",
     "text": [
      "Submitted batch job 3649279\n"
     ]
    }
   ],
   "source": [
    "!sbatch qc_trimmed.slurm"
   ]
  },
  {
   "cell_type": "code",
   "execution_count": null,
   "id": "4f008295-fe81-4526-bdb2-40f5c529a633",
   "metadata": {},
   "outputs": [],
   "source": []
  }
 ],
 "metadata": {
  "kernelspec": {
   "display_name": "Python 3 (ipykernel)",
   "language": "python",
   "name": "python3"
  },
  "language_info": {
   "codemirror_mode": {
    "name": "ipython",
    "version": 3
   },
   "file_extension": ".py",
   "mimetype": "text/x-python",
   "name": "python",
   "nbconvert_exporter": "python",
   "pygments_lexer": "ipython3",
   "version": "3.11.4"
  }
 },
 "nbformat": 4,
 "nbformat_minor": 5
}
